{
 "cells": [
  {
   "cell_type": "markdown",
   "id": "e5a2ffcd",
   "metadata": {
    "id": "e5a2ffcd"
   },
   "source": [
    "# YOLOv5"
   ]
  },
  {
   "cell_type": "code",
   "execution_count": null,
   "id": "a69d1b7c",
   "metadata": {
    "id": "a69d1b7c"
   },
   "outputs": [],
   "source": [
    "# YOLOv5\n",
    "import torch\n",
    "import numpy as np\n",
    "import cv2\n",
    "import os"
   ]
  },
  {
   "cell_type": "code",
   "execution_count": null,
   "id": "ab5d69f0",
   "metadata": {
    "id": "ab5d69f0",
    "outputId": "004220ca-e631-4979-b20d-0ab6307c297a"
   },
   "outputs": [
    {
     "name": "stderr",
     "output_type": "stream",
     "text": [
      "Downloading: \"https://github.com/ultralytics/yolov5/zipball/master\" to C:\\Users\\HP/.cache\\torch\\hub\\master.zip\n",
      "YOLOv5  2024-2-8 Python-3.11.5 torch-2.1.2+cpu CPU\n",
      "\n",
      "Fusing layers... \n",
      "Model summary: 157 layers, 7053277 parameters, 0 gradients, 15.9 GFLOPs\n",
      "Adding AutoShape... \n"
     ]
    }
   ],
   "source": [
    "# Load YOLOv5 model\n",
    "model = torch.hub.load('ultralytics/yolov5', 'custom', path=\"yolo-helmets.pt\")"
   ]
  },
  {
   "cell_type": "code",
   "execution_count": null,
   "id": "64cbbc3c",
   "metadata": {
    "id": "64cbbc3c"
   },
   "outputs": [],
   "source": [
    "# Process images in the directory\n",
    "for img_path in os.listdir('noisy test images'):\n",
    "    img_path = os.path.join('noisy test images', img_path)\n",
    "    img = cv2.imread(img_path)\n",
    "    img = cv2.cvtColor(img, cv2.COLOR_BGR2RGB)\n",
    "\n",
    "    # Perform detection\n",
    "    results = model(img)\n",
    "\n",
    "    # Render the detection results\n",
    "    results = cv2.cvtColor(np.squeeze(results.render()), cv2.COLOR_RGB2BGR)\n",
    "\n",
    "    # Resize image for display\n",
    "    percent = 50\n",
    "    width = int(results.shape[1] * percent / 100)\n",
    "    height = int(results.shape[0] * percent / 100)\n",
    "\n",
    "    results = cv2.resize(results, (width, height), interpolation=cv2.INTER_AREA)\n",
    "\n",
    "    # Display the detection results\n",
    "    cv2.imshow('Detection', results)\n",
    "    cv2.waitKey(0)\n",
    "cv2.destroyAllWindows()"
   ]
  },
  {
   "cell_type": "code",
   "execution_count": null,
   "id": "4b063c45",
   "metadata": {
    "id": "4b063c45",
    "outputId": "37df320c-c772-4af7-96e6-9bf6002b2f9d"
   },
   "outputs": [
    {
     "data": {
      "text/plain": [
       "{0: 'water puddle',\n",
       " 1: 'crack',\n",
       " 2: 'non-reflective vest',\n",
       " 3: 'reflective vest',\n",
       " 4: 'helmet',\n",
       " 5: 'not_helmet',\n",
       " 6: '6',\n",
       " 7: '7',\n",
       " 8: '8',\n",
       " 9: '9',\n",
       " 10: 'gas mask',\n",
       " 11: '11',\n",
       " 12: '12',\n",
       " 13: '13',\n",
       " 14: '14',\n",
       " 15: 'fire'}"
      ]
     },
     "execution_count": 10,
     "metadata": {},
     "output_type": "execute_result"
    }
   ],
   "source": [
    "# Display class names\n",
    "model.names"
   ]
  },
  {
   "cell_type": "code",
   "execution_count": null,
   "id": "e12ffe75",
   "metadata": {
    "id": "e12ffe75"
   },
   "outputs": [],
   "source": [
    "# Specify classes to detect\n",
    "detection_lst = [4]\n",
    "model.classes = detection_lst"
   ]
  },
  {
   "cell_type": "code",
   "execution_count": null,
   "id": "0f4865d6",
   "metadata": {
    "id": "0f4865d6"
   },
   "outputs": [],
   "source": [
    "# Repeat detection process with class filter\n",
    "for img_path in os.listdir('noisy test images'):\n",
    "    img_path = os.path.join('noisy test images', img_path)\n",
    "    img = cv2.imread(img_path)\n",
    "    img = cv2.cvtColor(img, cv2.COLOR_BGR2RGB)\n",
    "\n",
    "    # Perform detection with filtered classes\n",
    "    results = model(img)\n",
    "\n",
    "    # Render the detection results\n",
    "    results = cv2.cvtColor(np.squeeze(results.render()), cv2.COLOR_RGB2BGR)\n",
    "\n",
    "    # Resize image for display\n",
    "    percent = 50\n",
    "    width = int(results.shape[1] * percent / 100)\n",
    "    height = int(results.shape[0] * percent / 100)\n",
    "\n",
    "    results = cv2.resize(results, (width, height), interpolation=cv2.INTER_AREA)\n",
    "\n",
    "    # Display the detection results\n",
    "    cv2.imshow('Detection', results)\n",
    "    cv2.waitKey(0)\n",
    "cv2.destroyAllWindows()"
   ]
  }
 ],
 "metadata": {
  "colab": {
   "provenance": []
  },
  "kernelspec": {
   "display_name": "Python 3 (ipykernel)",
   "language": "python",
   "name": "python3"
  },
  "language_info": {
   "codemirror_mode": {
    "name": "ipython",
    "version": 3
   },
   "file_extension": ".py",
   "mimetype": "text/x-python",
   "name": "python",
   "nbconvert_exporter": "python",
   "pygments_lexer": "ipython3",
   "version": "3.11.5"
  }
 },
 "nbformat": 4,
 "nbformat_minor": 5
}
